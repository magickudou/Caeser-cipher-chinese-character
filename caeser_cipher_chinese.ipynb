{
 "cells": [
  {
   "cell_type": "code",
   "execution_count": 66,
   "metadata": {},
   "outputs": [],
   "source": [
    "def caeser(str,int):\n",
    "    #input chinese words and shift them in terms of utf-8 code with the value 'int'\n",
    "    l=len(str)\n",
    "    print l\n",
    "    intcode=[]\n",
    "    outstr=''\n",
    "    m=l/3\n",
    "    for i in range(l):\n",
    "        intcode.append(ord(str[i]))\n",
    "    for i in range(1,m+1):\n",
    "        x=3*i-1\n",
    "        intcode[x]=intcode[x]+int\n",
    "    for i in range(l):\n",
    "        outstr=outstr+chr(intcode[i])\n",
    "    print(outstr)\n",
    "    return outstr"
   ]
  },
  {
   "cell_type": "code",
   "execution_count": 69,
   "metadata": {},
   "outputs": [
    {
     "name": "stdout",
     "output_type": "stream",
     "text": [
      "18\n",
      "汎佥合饲事吜\n"
     ]
    },
    {
     "data": {
      "text/plain": [
       "'\\xe6\\xb1\\x8e\\xe4\\xbd\\xa5\\xe5\\x90\\x88\\xe9\\xa5\\xb2\\xe4\\xba\\x8b\\xe5\\x90\\x9c'"
      ]
     },
     "execution_count": 69,
     "metadata": {},
     "output_type": "execute_result"
    }
   ],
   "source": [
    "caeser('汉你吃饭了吗',5)"
   ]
  },
  {
   "cell_type": "code",
   "execution_count": null,
   "metadata": {},
   "outputs": [],
   "source": []
  }
 ],
 "metadata": {
  "kernelspec": {
   "display_name": "Python 2",
   "language": "python",
   "name": "python2"
  },
  "language_info": {
   "codemirror_mode": {
    "name": "ipython",
    "version": 2
   },
   "file_extension": ".py",
   "mimetype": "text/x-python",
   "name": "python",
   "nbconvert_exporter": "python",
   "pygments_lexer": "ipython2",
   "version": "2.7.16"
  }
 },
 "nbformat": 4,
 "nbformat_minor": 2
}
